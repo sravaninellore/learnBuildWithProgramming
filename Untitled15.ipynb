{
  "nbformat": 4,
  "nbformat_minor": 0,
  "metadata": {
    "colab": {
      "provenance": [],
      "authorship_tag": "ABX9TyN+gRoZpGYGjMMdHExIsUUy",
      "include_colab_link": true
    },
    "kernelspec": {
      "name": "python3",
      "display_name": "Python 3"
    },
    "language_info": {
      "name": "python"
    }
  },
  "cells": [
    {
      "cell_type": "markdown",
      "metadata": {
        "id": "view-in-github",
        "colab_type": "text"
      },
      "source": [
        "<a href=\"https://colab.research.google.com/github/sravaninellore/learnBuildWithProgramming/blob/main/Untitled15.ipynb\" target=\"_parent\"><img src=\"https://colab.research.google.com/assets/colab-badge.svg\" alt=\"Open In Colab\"/></a>"
      ]
    },
    {
      "cell_type": "code",
      "source": [
        "import pandas as pd"
      ],
      "metadata": {
        "id": "IFzqH87ZCOru"
      },
      "execution_count": 6,
      "outputs": []
    },
    {
      "cell_type": "code",
      "source": [
        "# Load the dataset\n",
        "df = pd.read_csv('wine_data.csv')"
      ],
      "metadata": {
        "id": "UZe6x1qCCRoB"
      },
      "execution_count": 7,
      "outputs": []
    },
    {
      "cell_type": "code",
      "source": [
        "#actionable Insights\n",
        "import pandas as pd\n",
        "\n",
        "# Load the dataset\n",
        "df = pd.read_csv('wine_data.csv')\n",
        "\n",
        "# Group by wine variety and count the number of reviews\n",
        "variety_counts = df.groupby('variety').size().reset_index(name='counts')\n",
        "\n",
        "# Sort the varieties by count in descending order\n",
        "top_varieties = variety_counts.sort_values('counts', ascending=False).head(5)\n",
        "\n",
        "# Print the top 5 varieties\n",
        "print(top_varieties)\n"
      ],
      "metadata": {
        "colab": {
          "base_uri": "https://localhost:8080/"
        },
        "id": "RzZB7ccNCwoL",
        "outputId": "718acf3b-f3e4-4b10-b40c-6d31257ba56e"
      },
      "execution_count": 11,
      "outputs": [
        {
          "output_type": "stream",
          "name": "stdout",
          "text": [
            "                     variety  counts\n",
            "14                Pinot Noir   11674\n",
            "5                 Chardonnay   10371\n",
            "3         Cabernet Sauvignon    8394\n",
            "17                 Red Blend    7945\n",
            "0   Bordeaux-style Red Blend    6106\n"
          ]
        }
      ]
    },
    {
      "cell_type": "code",
      "source": [
        "import pandas as pd\n",
        "import numpy as np\n",
        "\n",
        "# Load the dataset\n",
        "df = pd.read_csv('wine_data.csv')\n",
        "\n",
        "# Calculate the correlation coefficient between points and price\n",
        "corr = np.corrcoef(df['points'], df['price'])[0, 1]\n",
        "\n",
        "# Print the correlation coefficient\n",
        "print(\"Correlation coefficient between points and price: \", corr)\n"
      ],
      "metadata": {
        "colab": {
          "base_uri": "https://localhost:8080/"
        },
        "id": "FBQTysbiCytW",
        "outputId": "2842b535-7756-48de-e1c3-ca75f837ad5c"
      },
      "execution_count": 13,
      "outputs": [
        {
          "output_type": "stream",
          "name": "stdout",
          "text": [
            "Correlation coefficient between points and price:  nan\n"
          ]
        }
      ]
    },
    {
      "cell_type": "code",
      "source": [
        "import pandas as pd\n",
        "\n",
        "# Load the dataset\n",
        "df = pd.read_csv('wine_data.csv')\n",
        "\n",
        "# Concatenate region_1 and region_2 columns and drop the missing values\n",
        "df['region'] = df['region_1'].fillna('') + ' ' + df['region_2'].fillna('')\n",
        "df = df.drop(['region_1', 'region_2'], axis=1)\n",
        "\n",
        "# Group by region and count the number of reviews\n",
        "region_count = df.groupby('region')['region'].count().reset_index(name='count')\n",
        "\n",
        "# Sort by count in descending order and get the top 5\n",
        "top_regions = region_count.sort_values('count', ascending=False).head(5)\n",
        "\n",
        "# Print the top regions\n",
        "print(top_regions)\n"
      ],
      "metadata": {
        "colab": {
          "base_uri": "https://localhost:8080/"
        },
        "id": "ol7psdRWC7rS",
        "outputId": "bbbbeb55-1d9d-4bb5-8612-2aa188add4b7"
      },
      "execution_count": 14,
      "outputs": [
        {
          "output_type": "stream",
          "name": "stdout",
          "text": [
            "                                   region  count\n",
            "0                                          16068\n",
            "639                      Napa Valley Napa   4158\n",
            "249  Columbia Valley (WA) Columbia Valley   3710\n",
            "781           Russian River Valley Sonoma   2952\n",
            "140           California California Other   2368\n"
          ]
        }
      ]
    },
    {
      "cell_type": "code",
      "source": [
        "import pandas as pd\n",
        "\n",
        "# Load the dataset\n",
        "df = pd.read_csv('wine_data.csv')\n",
        "\n",
        "# Group by winery and count the number of reviews\n",
        "winery_count = df.groupby('winery')['winery'].count().reset_index(name='count')\n",
        "\n",
        "# Sort by count in descending order and get the top 5\n",
        "top_wineries = winery_count.sort_values('count', ascending=False).head(5)\n",
        "\n",
        "# Print the top wineries\n",
        "print(top_wineries)\n"
      ],
      "metadata": {
        "colab": {
          "base_uri": "https://localhost:8080/"
        },
        "id": "8ZV2CYlcDDmL",
        "outputId": "b36e1c05-3f8a-43df-a803-2bc0cb29bbb0"
      },
      "execution_count": 15,
      "outputs": [
        {
          "output_type": "stream",
          "name": "stdout",
          "text": [
            "                      winery  count\n",
            "13237             Testarossa    217\n",
            "14473        Williams Selyem    203\n",
            "9093            Louis Latour    199\n",
            "6996         Georges Duboeuf    195\n",
            "2427   Chateau Ste. Michelle    187\n"
          ]
        }
      ]
    },
    {
      "cell_type": "code",
      "source": [
        "#Predictig model\n",
        "# Import necessary libraries\n",
        "import pandas as pd\n",
        "import numpy as np\n",
        "import seaborn as sns\n",
        "import matplotlib.pyplot as plt\n",
        "from sklearn.model_selection import train_test_split\n",
        "from sklearn.feature_extraction.text import CountVectorizer\n",
        "from sklearn.preprocessing import LabelEncoder\n",
        "from sklearn.naive_bayes import MultinomialNB\n",
        "from sklearn.metrics import classification_report, confusion_matrix\n",
        "\n",
        "# Load the dataset\n",
        "wine_data = pd.read_csv('wine_data.csv')\n",
        "\n",
        "# Drop unnecessary columns\n",
        "wine_data = wine_data.drop(columns=['user_name', 'country', 'review_title', 'designation', 'points', 'price', 'province', 'region_1', 'region_2', 'winery'])\n",
        "\n",
        "# Remove missing values\n",
        "wine_data = wine_data.dropna()\n",
        "\n",
        "# Convert variety to numeric labels\n",
        "label_encoder = LabelEncoder()\n",
        "wine_data['variety'] = label_encoder.fit_transform(wine_data['variety'])\n",
        "\n",
        "# Split the dataset into training and testing data\n",
        "X_train, X_test, y_train, y_test = train_test_split(wine_data['review_description'], wine_data['variety'], test_size=0.2, random_state=42)\n",
        "\n",
        "# Convert review_description into a matrix of token counts\n",
        "vectorizer = CountVectorizer()\n",
        "X_train = vectorizer.fit_transform(X_train)\n",
        "X_test = vectorizer.transform(X_test)\n",
        "\n",
        "# Train the model\n",
        "naive_bayes = MultinomialNB()\n",
        "naive_bayes.fit(X_train, y_train)\n",
        "\n",
        "# Test the model\n",
        "y_pred = naive_bayes.predict(X_test)\n",
        "\n",
        "# Print the classification report and confusion matrix\n",
        "print(classification_report(y_test, y_pred))\n",
        "print(confusion_matrix(y_test, y_pred))\n"
      ],
      "metadata": {
        "colab": {
          "base_uri": "https://localhost:8080/"
        },
        "id": "eMHwgRPLFW6B",
        "outputId": "11ec4366-76cf-47ae-f91b-d77255a68567"
      },
      "execution_count": 16,
      "outputs": [
        {
          "output_type": "stream",
          "name": "stdout",
          "text": [
            "              precision    recall  f1-score   support\n",
            "\n",
            "           0       0.51      0.70      0.59      1384\n",
            "           1       1.00      0.13      0.22       215\n",
            "           2       0.71      0.03      0.07       288\n",
            "           3       0.49      0.67      0.57      1902\n",
            "           4       0.74      0.47      0.58       264\n",
            "           5       0.62      0.88      0.73      2245\n",
            "           6       0.90      0.09      0.16       200\n",
            "           7       0.89      0.04      0.08       204\n",
            "           8       0.89      0.43      0.58       267\n",
            "           9       0.39      0.44      0.41       520\n",
            "          10       0.78      0.08      0.14       591\n",
            "          11       0.66      0.78      0.71       581\n",
            "          12       0.91      0.13      0.23       221\n",
            "          13       0.94      0.11      0.20       305\n",
            "          14       0.70      0.77      0.73      2730\n",
            "          15       0.53      0.66      0.59       491\n",
            "          16       0.74      0.26      0.39       242\n",
            "          17       0.52      0.61      0.56      1805\n",
            "          18       0.89      0.21      0.34       301\n",
            "          19       0.68      0.82      0.74      1018\n",
            "          20       0.60      0.71      0.65       702\n",
            "          21       0.57      0.36      0.44       571\n",
            "          22       0.69      0.67      0.68      1004\n",
            "          23       0.79      0.56      0.66       414\n",
            "          24       0.59      0.41      0.48       788\n",
            "          25       0.47      0.36      0.41       371\n",
            "          26       0.69      0.55      0.61       481\n",
            "          27       0.70      0.47      0.56       560\n",
            "\n",
            "    accuracy                           0.60     20665\n",
            "   macro avg       0.70      0.44      0.47     20665\n",
            "weighted avg       0.64      0.60      0.57     20665\n",
            "\n",
            "[[ 965    0    1  122    0    3    0    0    0    8    1    0    0    0\n",
            "    27   73    0  172    0    0    6    0    0    0    3    0    0    3]\n",
            " [  46   27    0    0    1   81    0    0    0    0    0    0    0    0\n",
            "     0    2    7    0    0    2   12    0   36    0    0    0    1    0]\n",
            " [  37    0   10   96    0    2    1    0    0   12    0    1    0    0\n",
            "    43   11    0   44    0    2    5    0    0    0   17    5    0    2]\n",
            " [  26    0    1 1282    0    6    0    0    0  114    5    0    0    0\n",
            "   137    3    0  201    0    1    5    1    2    0   51   45    0   22]\n",
            " [   5    0    0    0  125   72    0    0    0    0    0    0    0    0\n",
            "     9    5    0    0    0    1   37    0    1    9    0    0    0    0]\n",
            " [  41    0    0    3   20 1978    0    0    1    4    0    0    0    0\n",
            "    16   12    3    0    0   47   23    0   52   25    0    0   18    2]\n",
            " [ 107    0    0    0    0    1   18    0    0    0    0    0    0    0\n",
            "    16   39    0    1    0    0   18    0    0    0    0    0    0    0]\n",
            " [   7    0    0    0    0   50    0    8    0    0    0    0    0    1\n",
            "     9    5    0    0    0  100    6    0   10    0    0    0    8    0]\n",
            " [   2    0    0    0    0   64    0    0  116    0    0    0    0    0\n",
            "     2    0    4    0    0   57    5    0   17    0    0    0    0    0]\n",
            " [  57    0    1   96    0    1    0    0    0  227    1    0    0    0\n",
            "    24   18    0   43    0    0    6    0    0    0   12   33    0    1]\n",
            " [  26    0    0  263    0    2    0    0    0   22   47    2    0    0\n",
            "    90    5    0   85    0    1    0    8    2    0   17    7    0   14]\n",
            " [   4    0    0   17    0    1    0    0    0    0    0  454    0    0\n",
            "    17    0    0   46    0    0    0   36    0    1    4    0    0    1]\n",
            " [   0    0    0    0    0   72    0    0    0    0    1    0   29    1\n",
            "     3    0    0    0    0   17    4    0   31    3    0    0   60    0]\n",
            " [   2    0    0    1    4  142    0    0    5    0    0    0    0   34\n",
            "    11    0    0    0    0   56    9    0   32    3    0    0    6    0]\n",
            " [ 271    0    0   98    9   15    1    0    0   23    1    1    0    0\n",
            "  2106   54    0   28    0    9   41    1    8   11   19   28    0    6]\n",
            " [ 151    0    0    2    0    2    0    0    0    0    0    0    0    0\n",
            "     5  324    0    1    0    0    5    0    0    0    0    0    0    1]\n",
            " [   4    0    0    0    0  120    0    0    0    0    0    0    0    0\n",
            "     0   12   64    0    0    1   35    0    6    0    0    0    0    0]\n",
            " [  52    0    0  165    0    2    0    0    0   59    2  111    0    0\n",
            "    81   15    0 1097    3    1   16  108    0    0   30   31    1   31]\n",
            " [  13    0    0   29    0    2    0    0    0    0    1    0    0    0\n",
            "    53    3    0  100   64    0    4    0    0    0   32    0    0    0]\n",
            " [   7    0    0    0    2  130    0    0    2    0    0    0    0    0\n",
            "     9    4    1    0    0  836    8    0   16    0    0    0    3    0]\n",
            " [  32    0    1    4    1   39    0    0    3    4    0    0    0    0\n",
            "    42   13    0   15    2   15  501    1   15    7    3    1    2    1]\n",
            " [   8    0    0   38    0    1    0    0    0    1    0  124    0    0\n",
            "    48    0    0  120    0    1    7  206    1    0    6    0    1    9]\n",
            " [   7    0    0    2    0  244    0    0    1    0    0    0    0    0\n",
            "     3    8    4    0    0   36   16    0  677    1    0    0    5    0]\n",
            " [   0    0    0    0    3   71    0    0    1    2    0    0    0    0\n",
            "    22    0    0    1    0   18   35    1   15  233    0    0   12    0]\n",
            " [   9    0    0  189    0    1    0    0    0   35    0    0    0    0\n",
            "   118    3    0   86    3    1    3    2    0    0  320    4    0   14]\n",
            " [   1    0    0   64    0    2    0    0    0   74    0    0    0    0\n",
            "    31    0    0   43    0    0    5    0    1    0   12  134    0    4]\n",
            " [   3    0    0    1    3   97    0    1    1    0    0    0    3    0\n",
            "     0    2    3    1    0   28   17    0   54    3    0    0  264    0]\n",
            " [   0    0    0  124    0    3    0    0    0    1    1    0    0    0\n",
            "   103    0    0   40    0    0    2    0    1    0   21    0    0  264]]\n"
          ]
        }
      ]
    },
    {
      "cell_type": "code",
      "source": [
        "import pandas as pd\n",
        "\n",
        "# Load the dataset\n",
        "df = pd.read_csv('wine_data.csv')\n",
        "\n",
        "# Drop the columns that are not required\n",
        "df = df.drop(['user_name', 'country', 'review_title', 'designation', 'points', 'price', 'province', 'region_1', 'region_2', 'winery'], axis=1)\n",
        "\n",
        "# Remove any null values\n",
        "df = df.dropna()\n"
      ],
      "metadata": {
        "id": "rzAAH2EQMfy8"
      },
      "execution_count": 32,
      "outputs": []
    },
    {
      "cell_type": "code",
      "source": [
        "from sklearn.model_selection import train_test_split\n",
        "\n",
        "# Split the data into train and test sets\n",
        "train_data, test_data = train_test_split(df, test_size=0.2, random_state=42)\n"
      ],
      "metadata": {
        "id": "I2jAlSz2Mocf"
      },
      "execution_count": 33,
      "outputs": []
    },
    {
      "cell_type": "code",
      "source": [
        "from sklearn.feature_extraction.text import TfidfVectorizer\n",
        "\n",
        "# Create the vectorizer\n",
        "vectorizer = TfidfVectorizer(stop_words='english', ngram_range=(1, 3))\n",
        "\n",
        "# Extract features from the training data\n",
        "train_features = vectorizer.fit_transform(train_data['review_description'])\n",
        "\n",
        "# Extract features from the test data\n",
        "test_features = vectorizer.transform(test_data['review_description'])\n"
      ],
      "metadata": {
        "id": "1AqhJXqSMrQM"
      },
      "execution_count": 34,
      "outputs": []
    },
    {
      "cell_type": "code",
      "source": [
        "from sklearn.naive_bayes import MultinomialNB\n",
        "\n",
        "# Create the classifier\n",
        "classifier = MultinomialNB()\n",
        "\n",
        "# Train the classifier\n",
        "classifier.fit(train_features, train_data['variety'])\n"
      ],
      "metadata": {
        "colab": {
          "base_uri": "https://localhost:8080/",
          "height": 74
        },
        "id": "l_3FVideM1Ai",
        "outputId": "7c94fca1-084e-40db-bda9-26d657a12d61"
      },
      "execution_count": 35,
      "outputs": [
        {
          "output_type": "execute_result",
          "data": {
            "text/plain": [
              "MultinomialNB()"
            ],
            "text/html": [
              "<style>#sk-container-id-2 {color: black;background-color: white;}#sk-container-id-2 pre{padding: 0;}#sk-container-id-2 div.sk-toggleable {background-color: white;}#sk-container-id-2 label.sk-toggleable__label {cursor: pointer;display: block;width: 100%;margin-bottom: 0;padding: 0.3em;box-sizing: border-box;text-align: center;}#sk-container-id-2 label.sk-toggleable__label-arrow:before {content: \"▸\";float: left;margin-right: 0.25em;color: #696969;}#sk-container-id-2 label.sk-toggleable__label-arrow:hover:before {color: black;}#sk-container-id-2 div.sk-estimator:hover label.sk-toggleable__label-arrow:before {color: black;}#sk-container-id-2 div.sk-toggleable__content {max-height: 0;max-width: 0;overflow: hidden;text-align: left;background-color: #f0f8ff;}#sk-container-id-2 div.sk-toggleable__content pre {margin: 0.2em;color: black;border-radius: 0.25em;background-color: #f0f8ff;}#sk-container-id-2 input.sk-toggleable__control:checked~div.sk-toggleable__content {max-height: 200px;max-width: 100%;overflow: auto;}#sk-container-id-2 input.sk-toggleable__control:checked~label.sk-toggleable__label-arrow:before {content: \"▾\";}#sk-container-id-2 div.sk-estimator input.sk-toggleable__control:checked~label.sk-toggleable__label {background-color: #d4ebff;}#sk-container-id-2 div.sk-label input.sk-toggleable__control:checked~label.sk-toggleable__label {background-color: #d4ebff;}#sk-container-id-2 input.sk-hidden--visually {border: 0;clip: rect(1px 1px 1px 1px);clip: rect(1px, 1px, 1px, 1px);height: 1px;margin: -1px;overflow: hidden;padding: 0;position: absolute;width: 1px;}#sk-container-id-2 div.sk-estimator {font-family: monospace;background-color: #f0f8ff;border: 1px dotted black;border-radius: 0.25em;box-sizing: border-box;margin-bottom: 0.5em;}#sk-container-id-2 div.sk-estimator:hover {background-color: #d4ebff;}#sk-container-id-2 div.sk-parallel-item::after {content: \"\";width: 100%;border-bottom: 1px solid gray;flex-grow: 1;}#sk-container-id-2 div.sk-label:hover label.sk-toggleable__label {background-color: #d4ebff;}#sk-container-id-2 div.sk-serial::before {content: \"\";position: absolute;border-left: 1px solid gray;box-sizing: border-box;top: 0;bottom: 0;left: 50%;z-index: 0;}#sk-container-id-2 div.sk-serial {display: flex;flex-direction: column;align-items: center;background-color: white;padding-right: 0.2em;padding-left: 0.2em;position: relative;}#sk-container-id-2 div.sk-item {position: relative;z-index: 1;}#sk-container-id-2 div.sk-parallel {display: flex;align-items: stretch;justify-content: center;background-color: white;position: relative;}#sk-container-id-2 div.sk-item::before, #sk-container-id-2 div.sk-parallel-item::before {content: \"\";position: absolute;border-left: 1px solid gray;box-sizing: border-box;top: 0;bottom: 0;left: 50%;z-index: -1;}#sk-container-id-2 div.sk-parallel-item {display: flex;flex-direction: column;z-index: 1;position: relative;background-color: white;}#sk-container-id-2 div.sk-parallel-item:first-child::after {align-self: flex-end;width: 50%;}#sk-container-id-2 div.sk-parallel-item:last-child::after {align-self: flex-start;width: 50%;}#sk-container-id-2 div.sk-parallel-item:only-child::after {width: 0;}#sk-container-id-2 div.sk-dashed-wrapped {border: 1px dashed gray;margin: 0 0.4em 0.5em 0.4em;box-sizing: border-box;padding-bottom: 0.4em;background-color: white;}#sk-container-id-2 div.sk-label label {font-family: monospace;font-weight: bold;display: inline-block;line-height: 1.2em;}#sk-container-id-2 div.sk-label-container {text-align: center;}#sk-container-id-2 div.sk-container {/* jupyter's `normalize.less` sets `[hidden] { display: none; }` but bootstrap.min.css set `[hidden] { display: none !important; }` so we also need the `!important` here to be able to override the default hidden behavior on the sphinx rendered scikit-learn.org. See: https://github.com/scikit-learn/scikit-learn/issues/21755 */display: inline-block !important;position: relative;}#sk-container-id-2 div.sk-text-repr-fallback {display: none;}</style><div id=\"sk-container-id-2\" class=\"sk-top-container\"><div class=\"sk-text-repr-fallback\"><pre>MultinomialNB()</pre><b>In a Jupyter environment, please rerun this cell to show the HTML representation or trust the notebook. <br />On GitHub, the HTML representation is unable to render, please try loading this page with nbviewer.org.</b></div><div class=\"sk-container\" hidden><div class=\"sk-item\"><div class=\"sk-estimator sk-toggleable\"><input class=\"sk-toggleable__control sk-hidden--visually\" id=\"sk-estimator-id-2\" type=\"checkbox\" checked><label for=\"sk-estimator-id-2\" class=\"sk-toggleable__label sk-toggleable__label-arrow\">MultinomialNB</label><div class=\"sk-toggleable__content\"><pre>MultinomialNB()</pre></div></div></div></div></div>"
            ]
          },
          "metadata": {},
          "execution_count": 35
        }
      ]
    },
    {
      "cell_type": "code",
      "source": [
        "from sklearn.metrics import accuracy_score\n",
        "\n",
        "# Make predictions on the test set\n",
        "predictions = classifier.predict(test_features)\n",
        "\n",
        "# Calculate the accuracy score\n",
        "accuracy = accuracy_score(test_data['variety'], predictions)\n",
        "\n",
        "# Print the accuracy score\n",
        "print('Accuracy:', accuracy)\n"
      ],
      "metadata": {
        "colab": {
          "base_uri": "https://localhost:8080/"
        },
        "id": "Rv2057xvM52t",
        "outputId": "5f8798dd-3745-4f8a-a09e-efd6864dfe63"
      },
      "execution_count": 36,
      "outputs": [
        {
          "output_type": "stream",
          "name": "stdout",
          "text": [
            "Accuracy: 0.41901766271473506\n"
          ]
        }
      ]
    },
    {
      "cell_type": "code",
      "source": [
        "from flask import Flask, request, jsonify\n",
        "\n",
        "# Create the Flask app\n",
        "app = Flask(__name__)\n",
        "\n",
        "# Define the API endpoint\n",
        "@app.route('/predict', methods=['POST'])\n",
        "def predict():\n",
        "    # Get the review description from the request\n",
        "    review_description = request.json['review_description']\n",
        "    \n",
        "    # Extract features from the review description\n",
        "    features = vectorizer.transform([review_description])\n",
        "    \n",
        "    # Make a prediction\n",
        "    prediction = classifier.predict(features)[0]\n",
        "    \n",
        "    # Return the prediction\n",
        "    return jsonify({'prediction': prediction})\n",
        "\n",
        "# Run the app\n",
        "if __name__ == '__main__':\n",
        "    app.run\n"
      ],
      "metadata": {
        "id": "fZJp6ixZM8zl"
      },
      "execution_count": 37,
      "outputs": []
    },
    {
      "cell_type": "code",
      "source": [
        "{\n",
        "    \"review_description\": \"This wine has a fruity aroma with notes of black cherry and plum.\"\n",
        "}\n"
      ],
      "metadata": {
        "colab": {
          "base_uri": "https://localhost:8080/"
        },
        "id": "RkezPOG5NQpG",
        "outputId": "f23cbca7-af5d-42fd-938a-ecd2b5c35b0a"
      },
      "execution_count": 38,
      "outputs": [
        {
          "output_type": "execute_result",
          "data": {
            "text/plain": [
              "{'review_description': 'This wine has a fruity aroma with notes of black cherry and plum.'}"
            ]
          },
          "metadata": {},
          "execution_count": 38
        }
      ]
    },
    {
      "cell_type": "code",
      "source": [
        "{\n",
        "    \"prediction\": \"Pinot Noir\"\n",
        "}\n"
      ],
      "metadata": {
        "colab": {
          "base_uri": "https://localhost:8080/"
        },
        "id": "ODAqCwhuNw0U",
        "outputId": "312cf1cc-9472-4593-9524-3253831e205c"
      },
      "execution_count": 40,
      "outputs": [
        {
          "output_type": "execute_result",
          "data": {
            "text/plain": [
              "{'prediction': 'Pinot Noir'}"
            ]
          },
          "metadata": {},
          "execution_count": 40
        }
      ]
    }
  ]
}